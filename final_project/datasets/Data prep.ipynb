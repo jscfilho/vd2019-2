{
 "cells": [
  {
   "cell_type": "code",
   "execution_count": 2,
   "metadata": {},
   "outputs": [],
   "source": [
    "import pandas as pd\n",
    "import numpy as np\n",
    "\n",
    "DATASET_PATH=\"BRAZIL_CITIES.csv\""
   ]
  },
  {
   "cell_type": "code",
   "execution_count": 3,
   "metadata": {},
   "outputs": [
    {
     "name": "stdout",
     "output_type": "stream",
     "text": [
      "['CITY', 'STATE', 'CAPITAL', 'IBGE_RES_POP', 'IBGE_RES_POP_BRAS', 'IBGE_RES_POP_ESTR', 'IBGE_DU', 'IBGE_DU_URBAN', 'IBGE_DU_RURAL', 'IBGE_POP', 'IBGE_1', 'IBGE_1-4', 'IBGE_5-9', 'IBGE_10-14', 'IBGE_15-59', 'IBGE_60+', 'IBGE_PLANTED_AREA', 'IBGE_CROP_PRODUCTION_$', 'IDHM Ranking 2010', 'IDHM', 'IDHM_Renda', 'IDHM_Longevidade', 'IDHM_Educacao', 'LONG', 'LAT', 'ALT', 'PAY_TV', 'FIXED_PHONES', 'AREA', 'REGIAO_TUR', 'CATEGORIA_TUR', 'ESTIMATED_POP', 'RURAL_URBAN', 'GVA_AGROPEC', 'GVA_INDUSTRY', 'GVA_SERVICES', 'GVA_PUBLIC', ' GVA_TOTAL ', 'TAXES', 'GDP', 'POP_GDP', 'GDP_CAPITA', 'GVA_MAIN', 'MUN_EXPENDIT', 'COMP_TOT', 'COMP_A', 'COMP_B', 'COMP_C', 'COMP_D', 'COMP_E', 'COMP_F', 'COMP_G', 'COMP_H', 'COMP_I', 'COMP_J', 'COMP_K', 'COMP_L', 'COMP_M', 'COMP_N', 'COMP_O', 'COMP_P', 'COMP_Q', 'COMP_R', 'COMP_S', 'COMP_T', 'COMP_U', 'HOTELS', 'BEDS', 'Pr_Agencies', 'Pu_Agencies', 'Pr_Bank', 'Pu_Bank', 'Pr_Assets', 'Pu_Assets', 'Cars', 'Motorcycles', 'Wheeled_tractor', 'UBER', 'MAC', 'WAL-MART', 'POST_OFFICES']\n"
     ]
    }
   ],
   "source": [
    "data = pd.read_csv(DATASET_PATH, sep=';')\n",
    "print(list(data))"
   ]
  },
  {
   "cell_type": "code",
   "execution_count": 6,
   "metadata": {},
   "outputs": [],
   "source": [
    "props = [' GVA_TOTAL ','IDHM', 'TAXES', 'GDP', 'MUN_EXPENDIT', 'COMP_TOT']\n",
    "\n",
    "for p in props:\n",
    "    prop_map = {}\n",
    "    state_list = data['STATE'].unique()\n",
    "    for s in state_list:\n",
    "        temp = data.loc[data['STATE'] == s]\n",
    "        prop_map[s] = temp[p].mean()\n",
    "\n",
    "    df = pd.DataFrame(list(prop_map.items()), columns=['sigla', p])\n",
    "    file_name = p + '_per_state.csv'\n",
    "    df.to_csv(file_name, index=False)\n"
   ]
  },
  {
   "cell_type": "code",
   "execution_count": 8,
   "metadata": {},
   "outputs": [],
   "source": [
    "props2 = ['COMP_TOT']\n",
    "\n",
    "for p in props2:\n",
    "    prop_map = {}\n",
    "    state_list = data['STATE'].unique()\n",
    "    for s in state_list:\n",
    "        temp = data.loc[data['STATE'] == s]\n",
    "        prop_map[s] = temp[p].sum()\n",
    "\n",
    "    df = pd.DataFrame(list(prop_map.items()), columns=['sigla', p])\n",
    "    file_name = p + '_per_state.csv'\n",
    "    df.to_csv(file_name, index=False)"
   ]
  },
  {
   "cell_type": "code",
   "execution_count": 21,
   "metadata": {},
   "outputs": [],
   "source": [
    "# props2 = ['GVA_MAIN']\n",
    "\n",
    "\n",
    "results = []\n",
    "state_list = data['STATE'].unique()\n",
    "for s in state_list:\n",
    "    \n",
    "    temp = data.loc[data['STATE'] == s]\n",
    "    \n",
    "    row = {}\n",
    "    row['sigla'] = s\n",
    "    row['IDHM_Renda'] = temp[\"IDHM_Renda\"].mean()\n",
    "    row['IDHM_Longevidade'] = temp[\"IDHM_Longevidade\"].mean()\n",
    "    row['IDHM_Educacao'] = temp[\"IDHM_Educacao\"].mean()\n",
    "    \n",
    "    results.append(row)\n",
    "    \n",
    "df = pd.DataFrame(results, columns=['sigla', 'IDHM_Renda', 'IDHM_Longevidade', 'IDHM_Educacao']) \n",
    "file_name = 'detailed_idh_per_state.csv'\n",
    "df.to_csv(file_name, index=False)\n",
    "\n",
    "\n",
    "# groups = data.groupby(['camporesultado1']).size()\n",
    "# groups.plot.bar()"
   ]
  },
  {
   "cell_type": "code",
   "execution_count": 33,
   "metadata": {},
   "outputs": [],
   "source": [
    "results = []\n",
    "state_list = data['STATE'].unique()\n",
    "for s in state_list:\n",
    "    \n",
    "    temp = data.loc[data['STATE'] == s]\n",
    "    \n",
    "    row = {}\n",
    "    row['sigla'] = s\n",
    "    row['TAXES'] = (temp[\"TAXES\"].sum() / 1000)\n",
    "    row['MUN_EXPENDIT'] = (temp[\"MUN_EXPENDIT\"].sum() / 1000000)\n",
    "    raw_value = row['TAXES'] - row['MUN_EXPENDIT']\n",
    "        \n",
    "    row['value'] = abs(raw_value)\n",
    "    if raw_value >= 0:\n",
    "        row['group'] = \"blue\"\n",
    "    else:\n",
    "        row['group'] = \"red\"\n",
    "    results.append(row)\n",
    "    \n",
    "df = pd.DataFrame(results, columns=['sigla', 'TAXES', 'MUN_EXPENDIT', 'value', 'group']) \n",
    "file_name = 'income_per_state.csv'\n",
    "df.to_csv(file_name, index=False)"
   ]
  },
  {
   "cell_type": "code",
   "execution_count": 24,
   "metadata": {},
   "outputs": [],
   "source": [
    "results = []\n",
    "state_list = data['STATE'].unique()\n",
    "for s in state_list:\n",
    "    \n",
    "    temp = data.loc[data['STATE'] == s]\n",
    "    \n",
    "    row = {}\n",
    "    row['sigla'] = s\n",
    "    row['COMP_A'] = temp[\"COMP_A\"].sum()\n",
    "    row['COMP_B'] = temp[\"COMP_B\"].sum()\n",
    "    row['COMP_C'] = temp[\"COMP_C\"].sum()\n",
    "    row['COMP_D'] = temp[\"COMP_D\"].sum()\n",
    "    row['COMP_E'] = temp[\"COMP_E\"].sum()\n",
    "    row['COMP_F'] = temp[\"COMP_F\"].sum()\n",
    "    row['COMP_G'] = temp[\"COMP_G\"].sum()\n",
    "    row['COMP_H'] = temp[\"COMP_H\"].sum()\n",
    "    row['COMP_I'] = temp[\"COMP_I\"].sum()\n",
    "    row['COMP_J'] = temp[\"COMP_J\"].sum()\n",
    "    row['COMP_K'] = temp[\"COMP_K\"].sum()\n",
    "    row['COMP_L'] = temp[\"COMP_L\"].sum()\n",
    "    row['COMP_M'] = temp[\"COMP_M\"].sum()\n",
    "    row['COMP_N'] = temp[\"COMP_N\"].sum()\n",
    "    row['COMP_O'] = temp[\"COMP_O\"].sum()\n",
    "    row['COMP_P'] = temp[\"COMP_P\"].sum()\n",
    "    row['COMP_Q'] = temp[\"COMP_Q\"].sum()\n",
    "    row['COMP_R'] = temp[\"COMP_R\"].sum()\n",
    "    row['COMP_S'] = temp[\"COMP_S\"].sum()\n",
    "    row['COMP_T'] = temp[\"COMP_T\"].sum()\n",
    "    row['COMP_U'] = temp[\"COMP_U\"].sum()\n",
    "    \n",
    "    results.append(row)\n",
    "    \n",
    "df = pd.DataFrame(results, columns=['sigla', 'COMP_A',\n",
    "                                   'COMP_B',\n",
    "                                   'COMP_C',\n",
    "                                   'COMP_D',\n",
    "                                   'COMP_E',\n",
    "                                   'COMP_F',\n",
    "                                   'COMP_G',\n",
    "                                   'COMP_H',\n",
    "                                   'COMP_I',\n",
    "                                   'COMP_J',\n",
    "                                   'COMP_K',\n",
    "                                   'COMP_L',\n",
    "                                   'COMP_M',\n",
    "                                   'COMP_N',\n",
    "                                   'COMP_O',\n",
    "                                   'COMP_P',\n",
    "                                   'COMP_Q',\n",
    "                                   'COMP_R',\n",
    "                                   'COMP_S',\n",
    "                                   'COMP_T',\n",
    "                                   'COMP_U']) \n",
    "file_name = 'industries_per_state.csv'\n",
    "df.to_csv(file_name, index=False)"
   ]
  },
  {
   "cell_type": "code",
   "execution_count": 4,
   "metadata": {},
   "outputs": [],
   "source": [
    "results = []\n",
    "state_list = data['STATE'].unique()\n",
    "for s in state_list:\n",
    "    \n",
    "    temp = data.loc[data['STATE'] == s]\n",
    "    \n",
    "    row = {}\n",
    "    row['sigla'] = s\n",
    "    row['COMP_TOT'] = temp[\"COMP_TOT\"].sum()\n",
    "    \n",
    "    results.append(row)\n",
    "    \n",
    "df = pd.DataFrame(results, columns=['sigla', 'COMP_TOT']) \n",
    "file_name = 'COMP_TOT_per_state.csv'\n",
    "df.to_csv(file_name, index=False)"
   ]
  },
  {
   "cell_type": "code",
   "execution_count": 8,
   "metadata": {},
   "outputs": [],
   "source": [
    "results = []\n",
    "state_list = data['STATE'].unique()\n",
    "for s in state_list:\n",
    "    \n",
    "    temp = data.loc[data['STATE'] == s]\n",
    "    \n",
    "    row = {}\n",
    "    row['sigla'] = s\n",
    "    row['IBGE_CROP_PRODUCTION_$'] = temp[\"IBGE_CROP_PRODUCTION_$\"].sum()\n",
    "    \n",
    "    results.append(row)\n",
    "    \n",
    "df = pd.DataFrame(results, columns=['sigla', 'IBGE_CROP_PRODUCTION_$']) \n",
    "file_name = 'agro_per_state.csv'\n",
    "df.to_csv(file_name, index=False)"
   ]
  }
 ],
 "metadata": {
  "kernelspec": {
   "display_name": "Python 3",
   "language": "python",
   "name": "python3"
  },
  "language_info": {
   "codemirror_mode": {
    "name": "ipython",
    "version": 3
   },
   "file_extension": ".py",
   "mimetype": "text/x-python",
   "name": "python",
   "nbconvert_exporter": "python",
   "pygments_lexer": "ipython3",
   "version": "3.7.3"
  }
 },
 "nbformat": 4,
 "nbformat_minor": 2
}
